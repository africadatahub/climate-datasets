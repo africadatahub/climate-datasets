{
 "cells": [
  {
   "cell_type": "code",
   "execution_count": null,
   "metadata": {},
   "outputs": [],
   "source": [
    "import sys\n",
    "import netCDF4\n",
    "from netCDF4 import Dataset\n",
    "import xarray as xr\n",
    "import numpy as np\n",
    "import pandas as pd\n",
    "from matplotlib import pyplot as plt\n",
    "np.set_printoptions(threshold=np.inf)"
   ]
  },
  {
   "cell_type": "code",
   "execution_count": null,
   "metadata": {},
   "outputs": [],
   "source": [
    "places_df = pd.read_json('./files/places2.json')"
   ]
  },
  {
   "cell_type": "code",
   "execution_count": null,
   "metadata": {},
   "outputs": [],
   "source": [
    "for index, row in places_df.iterrows():\n",
    "\n",
    "    filtered_df = pd.DataFrame()\n",
    "\n",
    "    lat = row['lat']\n",
    "    lon = row['lon']\n",
    "\n",
    "    if(lat != \"\" and lon != \"\"):\n",
    "\n",
    "        for metric in ['tmax', 'tmin', 'tavg']:\n",
    "\n",
    "            if(metric == 'tmax'):\n",
    "                df = pd.read_csv('./files/Berkeley/TMAX-temperature.csv')\n",
    "            elif(metric == 'tmin'):\n",
    "                df = pd.read_csv('./files/Berkeley/TMIN-temperature.csv')\n",
    "            else:\n",
    "                df = pd.read_csv('./files/Berkeley/TAVG-temperature.csv')\n",
    "\n",
    "            for index2, year in enumerate([2017, 2012, 2007, 2002, 1997, 1993]):\n",
    "\n",
    "                filtered_df = df[df['time'] >= year]\n",
    "\n",
    "                filtered_df = filtered_df[(filtered_df['latitude'] >= lat - 0.5) & (filtered_df['latitude'] <= lat + 0.5) & (filtered_df['longitude'] >= lon - 0.5) & (filtered_df['longitude'] <= lon + 0.5)]\n",
    "\n",
    "                avg_temp = filtered_df['temperature'].mean()\n",
    "\n",
    "                avg_temp = round(avg_temp, 2)\n",
    "\n",
    "                if(avg_temp == avg_temp):\n",
    "                    if(metric == 'tmax'):\n",
    "                        places_df.at[index, 'avg_tmax_' + str(((index2 + 1) * 5))] = avg_temp\n",
    "                    elif(metric == 'tmin'):\n",
    "                        places_df.at[index, 'avg_tmin_' + str(((index2 + 1) * 5))] = avg_temp\n",
    "                    else:\n",
    "                        places_df.at[index, 'avg_avg_' + str(((index2 + 1) * 5))] = avg_temp"
   ]
  },
  {
   "cell_type": "code",
   "execution_count": null,
   "metadata": {},
   "outputs": [],
   "source": [
    "# places_df to csv\n",
    "places_df.to_csv('./files/AVG_Temperature_Anomaly.csv', index=False)"
   ]
  }
 ],
 "metadata": {
  "kernelspec": {
   "display_name": "Python 3.10.6 ('pyenv_w': venv)",
   "language": "python",
   "name": "python3"
  },
  "language_info": {
   "codemirror_mode": {
    "name": "ipython",
    "version": 3
   },
   "file_extension": ".py",
   "mimetype": "text/x-python",
   "name": "python",
   "nbconvert_exporter": "python",
   "pygments_lexer": "ipython3",
   "version": "3.10.6"
  },
  "orig_nbformat": 4,
  "vscode": {
   "interpreter": {
    "hash": "648925aa737b7ce889e97a7481e660887b8a8edf09e09f666ca3ba9c9b529237"
   }
  }
 },
 "nbformat": 4,
 "nbformat_minor": 2
}
