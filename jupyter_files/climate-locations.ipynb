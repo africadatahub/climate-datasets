{
 "cells": [
  {
   "cell_type": "code",
   "execution_count": null,
   "metadata": {},
   "outputs": [],
   "source": [
    "import pandas as pd\n",
    "import numpy as np"
   ]
  },
  {
   "cell_type": "code",
   "execution_count": null,
   "metadata": {},
   "outputs": [],
   "source": [
    "df = pd.read_csv('files/adh/Berkeley/TMIN/TMIN-Climatology-2010-2022.csv')\n",
    "df"
   ]
  },
  {
   "cell_type": "code",
   "execution_count": null,
   "metadata": {},
   "outputs": [],
   "source": [
    "#  drop month_number, time and climatology columns\n",
    "df = df.drop(['month_number', 'time', 'climatology'], axis=1)\n",
    "\n",
    "df = df.drop_duplicates()\n",
    "\n",
    "df.to_csv('files/adh/Berkeley/locations.csv', index=False)\n"
   ]
  }
 ],
 "metadata": {
  "kernelspec": {
   "display_name": "Python 3.10.6 ('pyenv_w': venv)",
   "language": "python",
   "name": "python3"
  },
  "language_info": {
   "codemirror_mode": {
    "name": "ipython",
    "version": 3
   },
   "file_extension": ".py",
   "mimetype": "text/x-python",
   "name": "python",
   "nbconvert_exporter": "python",
   "pygments_lexer": "ipython3",
   "version": "3.10.6"
  },
  "orig_nbformat": 4,
  "vscode": {
   "interpreter": {
    "hash": "648925aa737b7ce889e97a7481e660887b8a8edf09e09f666ca3ba9c9b529237"
   }
  }
 },
 "nbformat": 4,
 "nbformat_minor": 2
}
