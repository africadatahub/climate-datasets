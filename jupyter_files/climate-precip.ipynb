{
 "cells": [
  {
   "cell_type": "code",
   "execution_count": null,
   "metadata": {},
   "outputs": [],
   "source": [
    "import sys\n",
    "import netCDF4\n",
    "from netCDF4 import Dataset\n",
    "import xarray as xr\n",
    "import numpy as np\n",
    "import pandas as pd\n",
    "from matplotlib import pyplot as plt\n",
    "np.set_printoptions(threshold=np.inf)"
   ]
  },
  {
   "cell_type": "code",
   "execution_count": null,
   "metadata": {},
   "outputs": [],
   "source": [
    "file = 'files/Berkeley/gpcc_10_combined.nc'\n",
    "nc = xr.open_dataset(file, decode_times=False)\n",
    "nc"
   ]
  },
  {
   "cell_type": "code",
   "execution_count": null,
   "metadata": {},
   "outputs": [],
   "source": [
    "dc = nc\n",
    "\n",
    "dc = dc.where(dc['lat'] > -37, drop=True)\n",
    "dc = dc.where(dc['lat'] < 37, drop=True)\n",
    "dc = dc.where(dc['lon'] > -20, drop=True)\n",
    "dc = dc.where(dc['lon'] < 60, drop=True)\n",
    "\n",
    "# Convert time column months since January 1891 to date\n",
    "dc['date'] = dc['time'] * np.timedelta64(1, 'M') + np.datetime64('1891-01-01')\n",
    "\n",
    "dc = dc.drop('time')\n",
    "\n",
    "dc['month_number'] = dc['date'].dt.month\n",
    "\n",
    "dc['time'] = dc['date'].dt.year\n",
    "\n",
    "dc = dc.drop('date')\n",
    "\n",
    "dc = dc.where(dc['time'] > 1992, drop=True)\n",
    "\n",
    "# rename column\n",
    "dc = dc.rename({'lat': 'latitude', 'lon': 'longitude'})\n",
    "\n",
    "df = dc.to_dataframe()\n",
    "\n",
    "df = df.dropna(subset=['precip'])\n",
    "\n",
    "df.to_csv('files/GPCC-Precipitation-1992-2022.csv')"
   ]
  }
 ],
 "metadata": {
  "kernelspec": {
   "display_name": "Python 3.10.6 ('pyenv_w': venv)",
   "language": "python",
   "name": "python3"
  },
  "language_info": {
   "codemirror_mode": {
    "name": "ipython",
    "version": 3
   },
   "file_extension": ".py",
   "mimetype": "text/x-python",
   "name": "python",
   "nbconvert_exporter": "python",
   "pygments_lexer": "ipython3",
   "version": "3.10.6"
  },
  "orig_nbformat": 4,
  "vscode": {
   "interpreter": {
    "hash": "648925aa737b7ce889e97a7481e660887b8a8edf09e09f666ca3ba9c9b529237"
   }
  }
 },
 "nbformat": 4,
 "nbformat_minor": 2
}
