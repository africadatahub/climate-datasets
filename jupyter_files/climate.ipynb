{
 "cells": [
  {
   "cell_type": "code",
   "execution_count": null,
   "metadata": {},
   "outputs": [],
   "source": [
    "import sys\n",
    "import os\n",
    "import netCDF4\n",
    "from netCDF4 import Dataset\n",
    "import xarray as xr\n",
    "import numpy as np\n",
    "import pandas as pd\n",
    "from matplotlib import pyplot as plt\n",
    "import glob\n",
    "np.set_printoptions(threshold=np.inf)"
   ]
  },
  {
   "cell_type": "code",
   "execution_count": null,
   "metadata": {},
   "outputs": [],
   "source": [
    "for type in ['TAVG']:\n",
    "\n",
    "    file = 'files/Berkeley/Complete_' + type + '_LatLong1-2.nc'\n",
    "    nc = xr.open_dataset(file)\n",
    "\n",
    "    for metric in ['climatology','temperature']:\n",
    "\n",
    "        years = np.arange(1993, 2023, 1)\n",
    "\n",
    "        for year in years:\n",
    "\n",
    "            dc = nc\n",
    "\n",
    "            dc = dc.drop_vars('land_mask')\n",
    "\n",
    "            if(metric == 'climatology'):\n",
    "                dc = dc.drop_vars('temperature')\n",
    "            else:\n",
    "                dc = dc.drop_vars('climatology')\n",
    "\n",
    "            # filter data to year\n",
    "            dc = dc.where(dc['time'] > year, drop=True)\n",
    "            dc = dc.where(dc['time'] < year + 1, drop=True)\n",
    "\n",
    "            # filter data to latitude and longitude in africa\n",
    "            dc = dc.where(dc['latitude'] > -37, drop=True)\n",
    "            dc = dc.where(dc['latitude'] < 37, drop=True)\n",
    "            dc = dc.where(dc['longitude'] > -20, drop=True)\n",
    "            dc = dc.where(dc['longitude'] < 60, drop=True)\n",
    "\n",
    "            df1 = dc.to_dataframe()\n",
    "\n",
    "            df1.to_csv('files/test/' + type + '-' + metric + '-' + str(year) + '.csv')\n",
    "\n",
    "        for year in years:\n",
    "\n",
    "            df2 = pd.read_csv('files/test/' + type + '-' + metric + '-' + str(year) + '.csv')\n",
    "\n",
    "            if(metric == 'climatology'):\n",
    "                df2['time'] = df2['time'].astype(str).str[:4]\n",
    "                df2 = df2.dropna(subset=['climatology']) \n",
    "            else:\n",
    "                df2 = df2.dropna(subset=['temperature'])\n",
    "\n",
    "            df2 = df2.drop_duplicates()\n",
    "\n",
    "            df2.to_csv('files/test/' + type + '-' + metric + '-' + str(year) + '-filtered.csv', index=False)\n",
    "\n",
    "        df3 = pd.concat([pd.read_csv(f) for f in glob.glob('files/test/' + type + '-' + metric + '-' + '*-filtered.csv')], ignore_index = True)\n",
    "\n",
    "        df3 = df3.sort_values(by=['longitude', 'latitude'])\n",
    "\n",
    "        df3.to_csv('files/test/' + type + '-' + metric + '.csv', index=False)\n",
    "\n",
    "        for year in years:\n",
    "            os.remove('files/test/' + type + '-' + metric + '-' + str(year) + '.csv')\n",
    "            os.remove('files/test/' + type + '-' + metric + '-' + str(year) + '-filtered.csv')"
   ]
  }
 ],
 "metadata": {
  "kernelspec": {
   "display_name": "Python 3.10.6 ('pyenv_w': venv)",
   "language": "python",
   "name": "python3"
  },
  "language_info": {
   "codemirror_mode": {
    "name": "ipython",
    "version": 3
   },
   "file_extension": ".py",
   "mimetype": "text/x-python",
   "name": "python",
   "nbconvert_exporter": "python",
   "pygments_lexer": "ipython3",
   "version": "3.10.6"
  },
  "orig_nbformat": 4,
  "vscode": {
   "interpreter": {
    "hash": "648925aa737b7ce889e97a7481e660887b8a8edf09e09f666ca3ba9c9b529237"
   }
  }
 },
 "nbformat": 4,
 "nbformat_minor": 2
}
