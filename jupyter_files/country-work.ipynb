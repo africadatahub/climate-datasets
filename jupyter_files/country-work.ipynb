{
 "cells": [
  {
   "cell_type": "code",
   "execution_count": 1,
   "metadata": {},
   "outputs": [],
   "source": [
    "import sys\n",
    "import netCDF4\n",
    "from netCDF4 import Dataset\n",
    "import xarray as xr\n",
    "import numpy as np\n",
    "import pandas as pd\n",
    "from matplotlib import pyplot as plt\n",
    "np.set_printoptions(threshold=np.inf)"
   ]
  },
  {
   "cell_type": "code",
   "execution_count": 2,
   "metadata": {},
   "outputs": [],
   "source": [
    "places_df = pd.read_json('./files/places.json')\n",
    "countries_df = pd.read_json('./files/countries.json')"
   ]
  },
  {
   "cell_type": "code",
   "execution_count": 3,
   "metadata": {},
   "outputs": [],
   "source": [
    "places_df = places_df.drop(['Rank'], axis=1)"
   ]
  },
  {
   "cell_type": "code",
   "execution_count": 4,
   "metadata": {},
   "outputs": [],
   "source": [
    "for index, row in places_df.iterrows():\n",
    "    \n",
    "    country = row['country']\n",
    "    \n",
    "    country_row = countries_df.loc[countries_df['location'] == country]\n",
    "\n",
    "    if not country_row.empty:\n",
    "        iso_code = country_row['iso_code'].values[0]\n",
    "        places_df.at[index, 'iso_code'] = iso_code\n",
    "\n",
    "    else:\n",
    "        print('Country not found: ' + country)\n",
    "\n",
    "places_df.to_json('./files/places2.json', orient='records')"
   ]
  }
 ],
 "metadata": {
  "kernelspec": {
   "display_name": "Python 3.10.6 ('pyenv_w': venv)",
   "language": "python",
   "name": "python3"
  },
  "language_info": {
   "codemirror_mode": {
    "name": "ipython",
    "version": 3
   },
   "file_extension": ".py",
   "mimetype": "text/x-python",
   "name": "python",
   "nbconvert_exporter": "python",
   "pygments_lexer": "ipython3",
   "version": "3.10.6"
  },
  "orig_nbformat": 4,
  "vscode": {
   "interpreter": {
    "hash": "648925aa737b7ce889e97a7481e660887b8a8edf09e09f666ca3ba9c9b529237"
   }
  }
 },
 "nbformat": 4,
 "nbformat_minor": 2
}
