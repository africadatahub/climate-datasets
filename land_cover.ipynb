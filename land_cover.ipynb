{
 "cells": [
  {
   "cell_type": "code",
   "execution_count": 18,
   "metadata": {},
   "outputs": [],
   "source": [
    "import sys\n",
    "import os\n",
    "import netCDF4\n",
    "import xarray as xr\n",
    "import numpy as np\n",
    "import pandas as pd\n",
    "from matplotlib import pyplot as plt\n",
    "import glob\n",
    "import json\n",
    "np.set_printoptions(threshold=np.inf)"
   ]
  },
  {
   "cell_type": "code",
   "execution_count": 19,
   "metadata": {},
   "outputs": [],
   "source": [
    "places = 'data/places.json'"
   ]
  },
  {
   "cell_type": "code",
   "execution_count": 20,
   "metadata": {},
   "outputs": [],
   "source": [
    "land_cover_data = []"
   ]
  },
  {
   "cell_type": "code",
   "execution_count": 21,
   "metadata": {},
   "outputs": [],
   "source": [
    "with open(places, 'r') as places_file:\n",
    "    places_data = json.load(places_file)"
   ]
  },
  {
   "cell_type": "code",
   "execution_count": 22,
   "metadata": {},
   "outputs": [],
   "source": [
    "def get_landcover_data(ds, city, year, min_lat, max_lat, min_lon, max_lon):\n",
    "\n",
    "    filtered_ds = ds.sel(lat=slice(max_lat, min_lat), lon=slice(min_lon, max_lon))\n",
    "\n",
    "    flag_values = filtered_ds['lccs_class'].attrs['flag_values']\n",
    "    flag_meanings = filtered_ds['lccs_class'].attrs['flag_meanings'].split()\n",
    "\n",
    "    flag_dict = dict(zip(flag_values, flag_meanings))\n",
    "\n",
    "    df = filtered_ds.to_dataframe()\n",
    "\n",
    "    df['lccs_class'] = df['lccs_class'].replace(flag_dict)\n",
    "    value_counts = df['lccs_class'].value_counts(normalize=True) * 100\n",
    "    value_counts = value_counts.round(decimals=3)\n",
    "\n",
    "    value_counts_dict = value_counts.to_dict()\n",
    "\n",
    "    # loop through value_counts_dict\n",
    "    for key, value in value_counts_dict.items():\n",
    "        land_cover_data.append({\n",
    "            'city': city,\n",
    "            'year': year,\n",
    "            'latutiude': min_lat + (max_lat - min_lat) / 2,\n",
    "            'longitude': min_lon + (max_lon - min_lon) / 2,\n",
    "            'land_cover_class': key,\n",
    "            'percent': value\n",
    "        })\n"
   ]
  },
  {
   "cell_type": "code",
   "execution_count": 23,
   "metadata": {},
   "outputs": [],
   "source": [
    "def get_places(ds, year):\n",
    "    for index, place in enumerate(places_data):\n",
    "        if index < 3:\n",
    "            print(place['city'])\n",
    "            get_landcover_data(ds, place['city'], year, place['lat']-0.5, place['lat']+0.5, place['lon']-0.5, place['lon']+0.5)"
   ]
  },
  {
   "cell_type": "code",
   "execution_count": 24,
   "metadata": {},
   "outputs": [
    {
     "name": "stdout",
     "output_type": "stream",
     "text": [
      "2010\n",
      "Cairo\n",
      "Kinshasa\n",
      "Lagos\n",
      "2011\n",
      "Cairo\n",
      "Kinshasa\n",
      "Lagos\n",
      "2012\n",
      "Cairo\n",
      "Kinshasa\n",
      "Lagos\n",
      "2013\n",
      "Cairo\n",
      "Kinshasa\n",
      "Lagos\n",
      "2014\n",
      "Cairo\n",
      "Kinshasa\n",
      "Lagos\n",
      "2015\n",
      "Cairo\n",
      "Kinshasa\n",
      "Lagos\n",
      "2016\n",
      "Cairo\n",
      "Kinshasa\n",
      "Lagos\n",
      "2017\n",
      "Cairo\n",
      "Kinshasa\n",
      "Lagos\n",
      "2018\n",
      "Cairo\n",
      "Kinshasa\n",
      "Lagos\n"
     ]
    }
   ],
   "source": [
    "for year in range(2010, 2019):\n",
    "    print(year)\n",
    "    if year >= 2016:\n",
    "        ds = xr.open_dataset('data\\C3S-LC-L4-LCCS-Map-300m-P1Y-' + str(year) + '-v2.1.1.nc')\n",
    "    else:\n",
    "        ds = xr.open_dataset('data\\ESACCI-LC-L4-LCCS-Map-300m-P1Y-' + str(year) + '-v2.0.7cds.nc')\n",
    "    get_places(ds, year)"
   ]
  },
  {
   "cell_type": "code",
   "execution_count": 25,
   "metadata": {},
   "outputs": [
    {
     "data": {
      "text/html": [
       "<div>\n",
       "<style scoped>\n",
       "    .dataframe tbody tr th:only-of-type {\n",
       "        vertical-align: middle;\n",
       "    }\n",
       "\n",
       "    .dataframe tbody tr th {\n",
       "        vertical-align: top;\n",
       "    }\n",
       "\n",
       "    .dataframe thead th {\n",
       "        text-align: right;\n",
       "    }\n",
       "</style>\n",
       "<table border=\"1\" class=\"dataframe\">\n",
       "  <thead>\n",
       "    <tr style=\"text-align: right;\">\n",
       "      <th></th>\n",
       "      <th>city</th>\n",
       "      <th>year</th>\n",
       "      <th>latutiude</th>\n",
       "      <th>longitude</th>\n",
       "      <th>land_cover_class</th>\n",
       "      <th>percent</th>\n",
       "    </tr>\n",
       "  </thead>\n",
       "  <tbody>\n",
       "    <tr>\n",
       "      <th>0</th>\n",
       "      <td>Cairo</td>\n",
       "      <td>2010</td>\n",
       "      <td>30.04442</td>\n",
       "      <td>31.235712</td>\n",
       "      <td>200</td>\n",
       "      <td>54.268</td>\n",
       "    </tr>\n",
       "    <tr>\n",
       "      <th>1</th>\n",
       "      <td>Cairo</td>\n",
       "      <td>2010</td>\n",
       "      <td>30.04442</td>\n",
       "      <td>31.235712</td>\n",
       "      <td>20</td>\n",
       "      <td>30.067</td>\n",
       "    </tr>\n",
       "    <tr>\n",
       "      <th>2</th>\n",
       "      <td>Cairo</td>\n",
       "      <td>2010</td>\n",
       "      <td>30.04442</td>\n",
       "      <td>31.235712</td>\n",
       "      <td>190</td>\n",
       "      <td>8.191</td>\n",
       "    </tr>\n",
       "    <tr>\n",
       "      <th>3</th>\n",
       "      <td>Cairo</td>\n",
       "      <td>2010</td>\n",
       "      <td>30.04442</td>\n",
       "      <td>31.235712</td>\n",
       "      <td>11</td>\n",
       "      <td>4.950</td>\n",
       "    </tr>\n",
       "    <tr>\n",
       "      <th>4</th>\n",
       "      <td>Cairo</td>\n",
       "      <td>2010</td>\n",
       "      <td>30.04442</td>\n",
       "      <td>31.235712</td>\n",
       "      <td>10</td>\n",
       "      <td>0.738</td>\n",
       "    </tr>\n",
       "  </tbody>\n",
       "</table>\n",
       "</div>"
      ],
      "text/plain": [
       "    city  year  latutiude  longitude  land_cover_class  percent\n",
       "0  Cairo  2010   30.04442  31.235712               200   54.268\n",
       "1  Cairo  2010   30.04442  31.235712                20   30.067\n",
       "2  Cairo  2010   30.04442  31.235712               190    8.191\n",
       "3  Cairo  2010   30.04442  31.235712                11    4.950\n",
       "4  Cairo  2010   30.04442  31.235712                10    0.738"
      ]
     },
     "execution_count": 25,
     "metadata": {},
     "output_type": "execute_result"
    }
   ],
   "source": [
    "lcdf = pd.DataFrame(land_cover_data)\n",
    "lcdf.head()"
   ]
  },
  {
   "cell_type": "code",
   "execution_count": 26,
   "metadata": {},
   "outputs": [],
   "source": [
    "\n",
    "# lcdf.to_csv('land_cover.csv', index=False)"
   ]
  }
 ],
 "metadata": {
  "kernelspec": {
   "display_name": "Python 3.10.6 ('pyenv_w': venv)",
   "language": "python",
   "name": "python3"
  },
  "language_info": {
   "codemirror_mode": {
    "name": "ipython",
    "version": 3
   },
   "file_extension": ".py",
   "mimetype": "text/x-python",
   "name": "python",
   "nbconvert_exporter": "python",
   "pygments_lexer": "ipython3",
   "version": "3.11.5"
  },
  "orig_nbformat": 4,
  "vscode": {
   "interpreter": {
    "hash": "648925aa737b7ce889e97a7481e660887b8a8edf09e09f666ca3ba9c9b529237"
   }
  }
 },
 "nbformat": 4,
 "nbformat_minor": 2
}
