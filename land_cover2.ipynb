{
 "cells": [
  {
   "cell_type": "code",
   "execution_count": null,
   "metadata": {},
   "outputs": [],
   "source": [
    "import sys\n",
    "import os\n",
    "import netCDF4\n",
    "import xarray as xr\n",
    "import numpy as np\n",
    "import pandas as pd\n",
    "from matplotlib import pyplot as plt\n",
    "import seaborn as sns\n",
    "import glob\n",
    "import json\n",
    "import matplotlib.pyplot as plt\n",
    "import matplotlib.colors as mcolors\n",
    "import geopandas as gpd\n",
    "from shapely.geometry import Point\n",
    "import cartopy.crs as ccrs\n",
    "np.set_printoptions(threshold=np.inf)"
   ]
  },
  {
   "cell_type": "code",
   "execution_count": null,
   "metadata": {},
   "outputs": [],
   "source": [
    "file = 'data\\C3S-LC-L4-LCCS-Map-300m-P1Y-2019-v2.1.1.nc'"
   ]
  },
  {
   "cell_type": "code",
   "execution_count": null,
   "metadata": {},
   "outputs": [],
   "source": [
    "ds = xr.open_dataset(file)\n",
    "ds"
   ]
  },
  {
   "cell_type": "code",
   "execution_count": null,
   "metadata": {},
   "outputs": [],
   "source": [
    "# drop variables that are not needed: processed_flag, current_pixel_state, observation_count, change_count, crs, time_bounds\n",
    "ds = ds.drop(['processed_flag', 'current_pixel_state', 'observation_count', 'change_count', 'crs', 'time_bounds'])"
   ]
  },
  {
   "cell_type": "code",
   "execution_count": null,
   "metadata": {},
   "outputs": [],
   "source": [
    "# ds_coarse = ds.coarsen(lat=3, lon=3).mean()\n",
    "# ds_coarse.to_netcdf(\"data\\C3S-LC-L4-LCCS-Map-600m-P1Y-2019-v2.1.1.nc\")"
   ]
  },
  {
   "cell_type": "code",
   "execution_count": null,
   "metadata": {},
   "outputs": [],
   "source": [
    "central_lat = -33.9248685\n",
    "central_lon = 18.4240553\n",
    "\n",
    "lat_min = central_lat - 0.5\n",
    "lat_max = central_lat + 0.5\n",
    "\n",
    "lon_min = central_lon - 0.5\n",
    "lon_max = central_lon + 0.5\n",
    "filtered_ds = ds.sel(lat=slice(lat_max, lat_min), lon=slice(lon_min, lon_max))"
   ]
  },
  {
   "cell_type": "code",
   "execution_count": null,
   "metadata": {},
   "outputs": [],
   "source": [
    "df = filtered_ds.to_dataframe()\n",
    "df\n",
    "# df.info()"
   ]
  },
  {
   "cell_type": "code",
   "execution_count": null,
   "metadata": {},
   "outputs": [],
   "source": [
    "agg_df = df.groupby([\n",
    "    df.index.get_level_values(0),  # Timestamp\n",
    "    (pd.Series(df.index.get_level_values(1)).round(2) // 0.3 * 0.3).values,\n",
    "    (pd.Series(df.index.get_level_values(2)).round(2) // 0.3 * 0.3).values,\n",
    "    df.index.get_level_values(3)  # The fourth level (bounds)\n",
    "]).agg({'lccs_class': 'mean'})\n",
    "\n",
    "# Reset the index for a clean dataframe\n",
    "agg_df = agg_df.reset_index()\n",
    "\n",
    "agg_df.rename(columns={\n",
    "    'level_1': 'Latitude',\n",
    "    'level_2': 'Longitude',\n",
    "    'bounds': 'Bounds'\n",
    "}, inplace=True)\n",
    "\n",
    "agg_df.head()"
   ]
  },
  {
   "cell_type": "code",
   "execution_count": null,
   "metadata": {},
   "outputs": [],
   "source": [
    "# Pivot the DataFrame to create a matrix for the heatmap\n",
    "# heatmap_data = agg_df.pivot_table(index='level_1', columns='level_2', values='lccs_class', aggfunc='mean')\n",
    "\n",
    "# Plot the heatmap\n",
    "# plt.figure(figsize=(10, 8))\n",
    "# sns.heatmap(heatmap_data, cmap='viridis', cbar_kws={'label': 'lccs_class'})\n",
    "# plt.title('lccs_class across Latitudes and Longitudes')\n",
    "# plt.show()\n"
   ]
  },
  {
   "cell_type": "code",
   "execution_count": null,
   "metadata": {},
   "outputs": [],
   "source": [
    "# Convert DataFrame to GeoDataFrame\n",
    "geometry = [Point(xy) for xy in zip(agg_df.Longitude, agg_df.Latitude)]\n",
    "geo_df = gpd.GeoDataFrame(agg_df, geometry=geometry)"
   ]
  },
  {
   "cell_type": "code",
   "execution_count": null,
   "metadata": {},
   "outputs": [],
   "source": [
    "fig, ax = plt.subplots(1, 1, figsize=(10, 10), subplot_kw={'projection': ccrs.PlateCarree()})\n",
    "\n",
    "# Set up the map\n",
    "ax.set_extent([agg_df.Longitude.min() - 0.5, agg_df.Longitude.max() + 0.5, \n",
    "               agg_df.Latitude.min() - 0.5, agg_df.Latitude.max() + 0.5])\n",
    "\n",
    "# Add features for countries, coastlines, and borders\n",
    "ax.coastlines(resolution='10m')\n",
    "ax.add_feature(cartopy.feature.BORDERS, linestyle=':')\n",
    "ax.add_feature(cartopy.feature.LAND, edgecolor='black')\n",
    "\n",
    "# Plot data points with colormap\n",
    "scatter = ax.scatter(geo_df.Longitude, geo_df.Latitude, c=geo_df.lccs_class, \n",
    "                     cmap='viridis', s=40, transform=ccrs.PlateCarree())\n",
    "plt.colorbar(scatter, ax=ax, orientation='vertical', label='lccs_class')\n",
    "\n",
    "plt.show()"
   ]
  },
  {
   "cell_type": "code",
   "execution_count": null,
   "metadata": {},
   "outputs": [],
   "source": [
    "# df.to_csv('bhengazi.csv')"
   ]
  }
 ],
 "metadata": {
  "kernelspec": {
   "display_name": "Python 3.10.6 ('pyenv_w': venv)",
   "language": "python",
   "name": "python3"
  },
  "language_info": {
   "codemirror_mode": {
    "name": "ipython",
    "version": 3
   },
   "file_extension": ".py",
   "mimetype": "text/x-python",
   "name": "python",
   "nbconvert_exporter": "python",
   "pygments_lexer": "ipython3",
   "version": "3.11.5"
  },
  "orig_nbformat": 4,
  "vscode": {
   "interpreter": {
    "hash": "648925aa737b7ce889e97a7481e660887b8a8edf09e09f666ca3ba9c9b529237"
   }
  }
 },
 "nbformat": 4,
 "nbformat_minor": 2
}
