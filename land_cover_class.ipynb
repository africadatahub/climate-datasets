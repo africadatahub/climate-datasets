{
 "cells": [
  {
   "cell_type": "code",
   "execution_count": 1,
   "metadata": {},
   "outputs": [],
   "source": [
    "import sys\n",
    "import os\n",
    "import numpy as np\n",
    "import pandas as pd\n",
    "from matplotlib import pyplot as plt\n",
    "import glob\n",
    "import json"
   ]
  },
  {
   "cell_type": "code",
   "execution_count": 2,
   "metadata": {},
   "outputs": [
    {
     "name": "stdout",
     "output_type": "stream",
     "text": [
      "['bare_areas' 'cropland_irrigated' 'urban'\n",
      " 'cropland_rainfed_herbaceous_cover' 'cropland_rainfed' 'water'\n",
      " 'bare_areas_consolidated' 'sparse_vegetation' 'mosaic_cropland'\n",
      " 'mosaic_natural_vegetation' 'shrubland_deciduous'\n",
      " 'shrub_or_herbaceous_cover_flooded' 'shrubland'\n",
      " 'bare_areas_unconsolidated' 'tree_needleleaved_deciduous_closed_to_open'\n",
      " 'tree_broadleaved_deciduous_open' 'mosaic_tree_and_shrub'\n",
      " 'tree_broadleaved_evergreen_closed_to_open'\n",
      " 'tree_broadleaved_deciduous_closed_to_open' 'mosaic_herbaceous'\n",
      " 'grassland' 'tree_cover_flooded_fresh_or_brakish_water'\n",
      " 'tree_cover_flooded_saline_water' 'tree_broadleaved_deciduous_closed'\n",
      " 'tree_mixed' 'cropland_rainfed_tree_or_shrub_cover' 'sparse_herbaceous'\n",
      " 'sparse_shrub' 'tree_needleleaved_evergreen_closed_to_open']\n"
     ]
    }
   ],
   "source": [
    "# read csv file land_cover.csv\n",
    "\n",
    "land_cover = pd.read_csv('land_cover.csv')\n",
    "\n",
    "# get all options for land_cover_class\n",
    "\n",
    "land_cover_class = land_cover['land_cover_class'].unique()\n",
    "\n",
    "print(land_cover_class)\n",
    "\n"
   ]
  },
  {
   "cell_type": "code",
   "execution_count": 4,
   "metadata": {},
   "outputs": [
    {
     "name": "stdout",
     "output_type": "stream",
     "text": [
      "[{'land_cover_class': 'bare_areas', 'color': '#A9A9A9'}, {'land_cover_class': 'cropland_irrigated', 'color': '#FFD700'}, {'land_cover_class': 'urban', 'color': '#696969'}, {'land_cover_class': 'cropland_rainfed_herbaceous_cover', 'color': '#FFA07A'}, {'land_cover_class': 'cropland_rainfed', 'color': '#FFB6C1'}, {'land_cover_class': 'water', 'color': '#1E90FF'}, {'land_cover_class': 'bare_areas_consolidated', 'color': '#B0C4DE'}, {'land_cover_class': 'sparse_vegetation', 'color': '#EEE8AA'}, {'land_cover_class': 'mosaic_cropland', 'color': '#DEB887'}, {'land_cover_class': 'mosaic_natural_vegetation', 'color': '#F5DEB3'}, {'land_cover_class': 'shrubland_deciduous', 'color': '#556B2F'}, {'land_cover_class': 'shrub_or_herbaceous_cover_flooded', 'color': '#8FBC8F'}, {'land_cover_class': 'shrubland', 'color': '#2E8B57'}, {'land_cover_class': 'bare_areas_unconsolidated', 'color': '#D3D3D3'}, {'land_cover_class': 'tree_needleleaved_deciduous_closed_to_open', 'color': '#B22222'}, {'land_cover_class': 'tree_broadleaved_deciduous_open', 'color': '#DB7093'}, {'land_cover_class': 'mosaic_tree_and_shrub', 'color': '#FFE4E1'}, {'land_cover_class': 'tree_broadleaved_evergreen_closed_to_open', 'color': '#228B22'}, {'land_cover_class': 'tree_broadleaved_deciduous_closed_to_open', 'color': '#008000'}, {'land_cover_class': 'mosaic_herbaceous', 'color': '#D2B48C'}, {'land_cover_class': 'grassland', 'color': '#ADFF2F'}, {'land_cover_class': 'tree_cover_flooded_fresh_or_brakish_water', 'color': '#32CD32'}, {'land_cover_class': 'tree_cover_flooded_saline_water', 'color': '#7CFC00'}, {'land_cover_class': 'tree_broadleaved_deciduous_closed', 'color': '#FF00FF'}, {'land_cover_class': 'tree_mixed', 'color': '#9370DB'}, {'land_cover_class': 'cropland_rainfed_tree_or_shrub_cover', 'color': '#FF4500'}, {'land_cover_class': 'sparse_herbaceous', 'color': '#FFDAB9'}, {'land_cover_class': 'sparse_shrub', 'color': '#EE82EE'}, {'land_cover_class': 'tree_needleleaved_evergreen_closed_to_open', 'color': '#DA70D6'}]\n"
     ]
    }
   ],
   "source": [
    "labels = ['bare_areas', 'cropland_irrigated', 'urban',\n",
    "          'cropland_rainfed_herbaceous_cover', 'cropland_rainfed', 'water',\n",
    "          'bare_areas_consolidated', 'sparse_vegetation', 'mosaic_cropland',\n",
    "          'mosaic_natural_vegetation', 'shrubland_deciduous',\n",
    "          'shrub_or_herbaceous_cover_flooded', 'shrubland',\n",
    "          'bare_areas_unconsolidated', 'tree_needleleaved_deciduous_closed_to_open',\n",
    "          'tree_broadleaved_deciduous_open', 'mosaic_tree_and_shrub',\n",
    "          'tree_broadleaved_evergreen_closed_to_open',\n",
    "          'tree_broadleaved_deciduous_closed_to_open', 'mosaic_herbaceous',\n",
    "          'grassland', 'tree_cover_flooded_fresh_or_brakish_water',\n",
    "          'tree_cover_flooded_saline_water', 'tree_broadleaved_deciduous_closed',\n",
    "          'tree_mixed', 'cropland_rainfed_tree_or_shrub_cover', 'sparse_herbaceous',\n",
    "          'sparse_shrub', 'tree_needleleaved_evergreen_closed_to_open']\n",
    "\n",
    "distinct_colors = [\n",
    "    \"#A9A9A9\", \"#FFD700\", \"#696969\", \"#FFA07A\", \"#FFB6C1\", \"#1E90FF\",\n",
    "    \"#B0C4DE\", \"#EEE8AA\", \"#DEB887\", \"#F5DEB3\", \"#556B2F\", \"#8FBC8F\",\n",
    "    \"#2E8B57\", \"#D3D3D3\", \"#B22222\", \"#DB7093\", \"#FFE4E1\", \"#228B22\",\n",
    "    \"#008000\", \"#D2B48C\", \"#ADFF2F\", \"#32CD32\", \"#7CFC00\", \"#FF00FF\",\n",
    "    \"#9370DB\", \"#FF4500\", \"#FFDAB9\", \"#EE82EE\", \"#DA70D6\"\n",
    "]\n",
    "\n",
    "chart_data = [{\"land_cover_class\": label, \"color\": color} for label, color in zip(labels, distinct_colors)]\n",
    "\n",
    "print(chart_data)"
   ]
  }
 ],
 "metadata": {
  "kernelspec": {
   "display_name": ".venv",
   "language": "python",
   "name": "python3"
  },
  "language_info": {
   "codemirror_mode": {
    "name": "ipython",
    "version": 3
   },
   "file_extension": ".py",
   "mimetype": "text/x-python",
   "name": "python",
   "nbconvert_exporter": "python",
   "pygments_lexer": "ipython3",
   "version": "3.11.5"
  },
  "orig_nbformat": 4
 },
 "nbformat": 4,
 "nbformat_minor": 2
}
